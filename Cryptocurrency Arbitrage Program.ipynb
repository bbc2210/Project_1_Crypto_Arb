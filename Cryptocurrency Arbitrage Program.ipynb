{
 "cells": [
  {
   "cell_type": "code",
   "execution_count": 1,
   "metadata": {},
   "outputs": [],
   "source": [
    "from dotenv import load_dotenv\n",
    "import os\n",
    "import pandas as pd\n",
    "import requests\n",
    "import urllib.request\n",
    "import json"
   ]
  },
  {
   "cell_type": "code",
   "execution_count": 2,
   "metadata": {},
   "outputs": [
    {
     "data": {
      "text/plain": [
       "True"
      ]
     },
     "execution_count": 2,
     "metadata": {},
     "output_type": "execute_result"
    }
   ],
   "source": [
    "load_dotenv()"
   ]
  },
  {
   "cell_type": "code",
   "execution_count": 19,
   "metadata": {},
   "outputs": [
    {
     "data": {
      "text/plain": [
       "str"
      ]
     },
     "metadata": {},
     "output_type": "display_data"
    },
    {
     "data": {
      "text/plain": [
       "NoneType"
      ]
     },
     "metadata": {},
     "output_type": "display_data"
    }
   ],
   "source": [
    "nomics_api_key = os.getenv('NOMICS_API_KEY')\n",
    "coinai_api_key = os.getenv('COINAI_API_KEY')\n",
    "display(type(nomics_api_key))\n",
    "display(type(coinai_api_key))"
   ]
  },
  {
   "cell_type": "code",
   "execution_count": 4,
   "metadata": {},
   "outputs": [],
   "source": [
    "url = f\"https://api.nomics.com/v1/currencies/ticker?key={nomics_api_key}&ids=BTC&interval=30d&convert=EUR&per-page=100&page=1\""
   ]
  },
  {
   "cell_type": "code",
   "execution_count": 5,
   "metadata": {},
   "outputs": [
    {
     "name": "stdout",
     "output_type": "stream",
     "text": [
      "<http.client.HTTPResponse object at 0x000001BCAFAD65C8>\n"
     ]
    }
   ],
   "source": [
    "print(urllib.request.urlopen(url))"
   ]
  },
  {
   "cell_type": "code",
   "execution_count": 6,
   "metadata": {},
   "outputs": [],
   "source": [
    "btc_data = urllib.request.urlopen(url)\n"
   ]
  },
  {
   "cell_type": "code",
   "execution_count": 7,
   "metadata": {},
   "outputs": [
    {
     "data": {
      "text/plain": [
       "[{'id': 'BTC',\n",
       "  'currency': 'BTC',\n",
       "  'symbol': 'BTC',\n",
       "  'name': 'Bitcoin',\n",
       "  'logo_url': 'https://s3.us-east-2.amazonaws.com/nomics-api/static/images/currencies/btc.svg',\n",
       "  'status': 'active',\n",
       "  'price': '40942.31868326',\n",
       "  'price_date': '2021-05-14T00:00:00Z',\n",
       "  'price_timestamp': '2021-05-14T03:35:00Z',\n",
       "  'circulating_supply': '18709568',\n",
       "  'max_supply': '21000000',\n",
       "  'market_cap': '766013095482',\n",
       "  'market_cap_dominance': '0.3898',\n",
       "  'num_exchanges': '384',\n",
       "  'num_pairs': '60212',\n",
       "  'num_pairs_unmapped': '5065',\n",
       "  'first_candle': '2011-08-18T00:00:00Z',\n",
       "  'first_trade': '2011-08-18T00:00:00Z',\n",
       "  'first_order_book': '2017-01-06T00:00:00Z',\n",
       "  'rank': '1',\n",
       "  'rank_delta': '0',\n",
       "  'high': '53318.61173451',\n",
       "  'high_timestamp': '2021-04-13T00:00:00Z',\n",
       "  '30d': {'volume': '1855044803762.23',\n",
       "   'price_change': '-12316.31517765',\n",
       "   'price_change_pct': '-0.2313',\n",
       "   'volume_change': '152370790431.18',\n",
       "   'volume_change_pct': '0.0895',\n",
       "   'market_cap_change': '-228965660962.74',\n",
       "   'market_cap_change_pct': '-0.2301'}}]"
      ]
     },
     "execution_count": 7,
     "metadata": {},
     "output_type": "execute_result"
    }
   ],
   "source": [
    "btc_real_time_data = json.load(btc_data)\n",
    "btc_real_time_data"
   ]
  },
  {
   "cell_type": "code",
   "execution_count": 8,
   "metadata": {},
   "outputs": [
    {
     "data": {
      "text/plain": [
       "[{'id': 'BTC',\n",
       "  'currency': 'BTC',\n",
       "  'symbol': 'BTC',\n",
       "  'name': 'Bitcoin',\n",
       "  'logo_url': 'https://s3.us-east-2.amazonaws.com/nomics-api/static/images/currencies/btc.svg',\n",
       "  'status': 'active',\n",
       "  'price': '40942.31868326',\n",
       "  'price_date': '2021-05-14T00:00:00Z',\n",
       "  'price_timestamp': '2021-05-14T03:35:00Z',\n",
       "  'circulating_supply': '18709568',\n",
       "  'max_supply': '21000000',\n",
       "  'market_cap': '766013095482',\n",
       "  'market_cap_dominance': '0.3898',\n",
       "  'num_exchanges': '384',\n",
       "  'num_pairs': '60212',\n",
       "  'num_pairs_unmapped': '5065',\n",
       "  'first_candle': '2011-08-18T00:00:00Z',\n",
       "  'first_trade': '2011-08-18T00:00:00Z',\n",
       "  'first_order_book': '2017-01-06T00:00:00Z',\n",
       "  'rank': '1',\n",
       "  'rank_delta': '0',\n",
       "  'high': '53318.61173451',\n",
       "  'high_timestamp': '2021-04-13T00:00:00Z',\n",
       "  '30d': {'volume': '1855044803762.23',\n",
       "   'price_change': '-12316.31517765',\n",
       "   'price_change_pct': '-0.2313',\n",
       "   'volume_change': '152370790431.18',\n",
       "   'volume_change_pct': '0.0895',\n",
       "   'market_cap_change': '-228965660962.74',\n",
       "   'market_cap_change_pct': '-0.2301'}}]"
      ]
     },
     "execution_count": 8,
     "metadata": {},
     "output_type": "execute_result"
    }
   ],
   "source": [
    "btc_real_time_data"
   ]
  },
  {
   "cell_type": "code",
   "execution_count": 9,
   "metadata": {},
   "outputs": [],
   "source": [
    "doge_url = f\"https://api.nomics.com/v1/currencies/ticker?key={nomics_api_key}&ids=DOGE&interval=30d&convert=EUR&per-page=100&page=1\""
   ]
  },
  {
   "cell_type": "code",
   "execution_count": 10,
   "metadata": {},
   "outputs": [],
   "source": [
    "doge_data = urllib.request.urlopen(doge_url)"
   ]
  },
  {
   "cell_type": "code",
   "execution_count": 11,
   "metadata": {},
   "outputs": [
    {
     "data": {
      "text/plain": [
       "[{'id': 'DOGE',\n",
       "  'currency': 'DOGE',\n",
       "  'symbol': 'DOGE',\n",
       "  'name': 'Dogecoin',\n",
       "  'logo_url': 'https://s3.us-east-2.amazonaws.com/nomics-api/static/images/currencies/doge.svg',\n",
       "  'status': 'active',\n",
       "  'price': '0.40321331',\n",
       "  'price_date': '2021-05-14T00:00:00Z',\n",
       "  'price_timestamp': '2021-05-14T03:35:00Z',\n",
       "  'circulating_supply': '129582999369',\n",
       "  'market_cap': '52249590198',\n",
       "  'market_cap_dominance': '0.0266',\n",
       "  'num_exchanges': '184',\n",
       "  'num_pairs': '2743',\n",
       "  'num_pairs_unmapped': '1013',\n",
       "  'first_candle': '2014-01-21T00:00:00Z',\n",
       "  'first_trade': '2014-01-21T00:00:00Z',\n",
       "  'first_order_book': '2018-09-12T00:00:00Z',\n",
       "  'rank': '4',\n",
       "  'rank_delta': '1',\n",
       "  'high': '0.56611574',\n",
       "  'high_timestamp': '2021-05-07T00:00:00Z',\n",
       "  '30d': {'volume': '686076971714.66',\n",
       "   'price_change': '0.30104609',\n",
       "   'price_change_pct': '2.9466',\n",
       "   'volume_change': '610882611784.91',\n",
       "   'volume_change_pct': '8.1240',\n",
       "   'market_cap_change': '39052774142.30',\n",
       "   'market_cap_change_pct': '2.9593'}}]"
      ]
     },
     "execution_count": 11,
     "metadata": {},
     "output_type": "execute_result"
    }
   ],
   "source": [
    "doge_real_time_data = json.load(doge_data)\n",
    "doge_real_time_data"
   ]
  },
  {
   "cell_type": "code",
   "execution_count": 15,
   "metadata": {},
   "outputs": [],
   "source": [
    "btc_poly_url = f\"https://api.polygon.io/v2/aggs/grouped/locale/global/market/crypto/2020-10-14?unadjusted=true&apiKey={polygon_api_key}\""
   ]
  },
  {
   "cell_type": "code",
   "execution_count": 16,
   "metadata": {},
   "outputs": [],
   "source": [
    "btc_historical_data = urllib.request.urlopen(btc_poly_url)"
   ]
  },
  {
   "cell_type": "code",
   "execution_count": 18,
   "metadata": {},
   "outputs": [],
   "source": [
    "btc_historical_poly_data = json.load(urllib.request.urlopen(btc_poly_url))\n"
   ]
  },
  {
   "cell_type": "code",
   "execution_count": null,
   "metadata": {},
   "outputs": [],
   "source": []
  }
 ],
 "metadata": {
  "kernelspec": {
   "display_name": "Python 3",
   "language": "python",
   "name": "python3"
  },
  "language_info": {
   "codemirror_mode": {
    "name": "ipython",
    "version": 3
   },
   "file_extension": ".py",
   "mimetype": "text/x-python",
   "name": "python",
   "nbconvert_exporter": "python",
   "pygments_lexer": "ipython3",
   "version": "3.7.9"
  }
 },
 "nbformat": 4,
 "nbformat_minor": 4
}
